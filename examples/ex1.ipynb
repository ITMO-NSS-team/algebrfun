{
 "cells": [
  {
   "cell_type": "code",
   "execution_count": 1,
   "metadata": {
    "pycharm": {
     "name": "#%%\n"
    }
   },
   "outputs": [],
   "source": [
    "import sys, os\n",
    "root_dir = '\\\\'.join(os.getcwd().split('\\\\')[:-1])\n",
    "sys.path.append(root_dir)\n",
    "\n",
    "from copy import deepcopy\n",
    "from functools import reduce\n",
    "\n",
    "from buildingBlocks.Synthesis import Chain\n",
    "from buildingBlocks.Synthesis.Synthesizer import Synthesizer\n",
    "from buildingBlocks.default.Tokens import Constant, Sin, Product, Imp, Power, ImpComplex\n",
    "from buildingBlocks.Globals.GlobalEntities import set_constants, get_full_constant\n",
    "from buildingBlocks.default.EvolutionEntities import Equation\n",
    "from buildingBlocks.default.EvolutionEntities import PopulationOfEquations\n",
    "\n",
    "from buildingBlocks.Globals.supplementary.FrequencyProcessor import FrequencyProcessor4TimeSeries as fp\n",
    "import buildingBlocks.Globals.GlobalEntities as Bg\n",
    "import buildingBlocks.Builder.OperatorsBuilder as Ob\n",
    "from load_data import get_data\n",
    "\n",
    "from moea_dd.src.moeadd import *\n",
    "from moea_dd.src.moeadd_supplementary import *\n",
    "from copy import deepcopy\n",
    "\n",
    "\n",
    "import moea_dd.forMoeadd.entities.EvolutionaryEntities as Ee\n",
    "import moea_dd.forMoeadd.entities.Objectives as Objs\n",
    "\n",
    "import numpy as np\n",
    "import matplotlib.pyplot as plt\n",
    "from time import perf_counter"
   ]
  },
  {
   "cell_type": "markdown",
   "metadata": {},
   "source": [
    "## Set tokens from which algorithm will be built model-expression\n",
    "Constant token is the target that will be approximated by other tokens\n",
    "ImpComplex is a set of splitted single pulses obtained from periodic impulse"
   ]
  },
  {
   "cell_type": "code",
   "execution_count": 2,
   "metadata": {},
   "outputs": [],
   "source": [
    "token1 = Constant(val=None, name_='target', mandatory=1)\n",
    "token2 = Sin(optimize_id=1, name_='Sin')\n",
    "token3 = Imp(optimize_id=1, name_='Imp')\n",
    "token4 = Power(optimize_id=2, name_='Power')\n",
    "\n",
    "pattern = Imp(optimize_id=1)\n",
    "impComplex_token = ImpComplex(pattern=pattern, optimize_id=3)"
   ]
  },
  {
   "cell_type": "markdown",
   "metadata": {},
   "source": [
    "## Choose dataset\n",
    "There are 3 datasets of series with different structure. Good meta parameters (build_settings) of the algorithm are selected for each of them."
   ]
  },
  {
   "cell_type": "markdown",
   "metadata": {},
   "source": [
    "### Time series with strong seasonality"
   ]
  },
  {
   "cell_type": "code",
   "execution_count": 3,
   "metadata": {},
   "outputs": [],
   "source": [
    "data = get_data(0)\n",
    "build_settings = {\n",
    "    'mutation': {\n",
    "        'simple': dict(intensive=1, increase_prob=1),\n",
    "        'complex': dict(prob=0., threshold=0.1, complex_token=impComplex_token)\n",
    "    },\n",
    "    'crossover': {\n",
    "        'simple': dict(intensive=1, increase_prob=0.3)\n",
    "    },\n",
    "    'tokens': [token1, token2, token3, token4],\n",
    "    'population': {\n",
    "        'size': 10\n",
    "    }\n",
    "}"
   ]
  },
  {
   "cell_type": "markdown",
   "metadata": {},
   "source": [
    "### Time series without seasonality"
   ]
  },
  {
   "cell_type": "code",
   "execution_count": null,
   "metadata": {},
   "outputs": [],
   "source": [
    "i = 2 #3\n",
    "data = get_data(i)\n",
    "build_settings = {\n",
    "    'mutation': {\n",
    "        'simple': dict(intensive=1, increase_prob=1),\n",
    "        'complex': dict(prob=0.5, threshold=0.5, complex_token=impComplex_token)\n",
    "    },\n",
    "    'crossover': {\n",
    "        'simple': dict(intensive=1, increase_prob=0.3)\n",
    "    },\n",
    "    'tokens': [token1, token3],\n",
    "    'population': {\n",
    "        'size': 10\n",
    "    }\n",
    "}\n"
   ]
  },
  {
   "cell_type": "markdown",
   "metadata": {},
   "source": [
    "## Get target and grid on which target will be approximated"
   ]
  },
  {
   "cell_type": "code",
   "execution_count": 4,
   "metadata": {},
   "outputs": [],
   "source": [
    "grid = data['grid']\n",
    "target = data['target']\n",
    "target -= target.mean()\n",
    "\n",
    "set_constants(target=target)\n"
   ]
  },
  {
   "cell_type": "markdown",
   "metadata": {},
   "source": [
    "## Confirm build_settings and set info about individual into evolutionary operators\n",
    "max_tokens is reqularization parameter, without it model overfits"
   ]
  },
  {
   "cell_type": "code",
   "execution_count": 5,
   "metadata": {},
   "outputs": [],
   "source": [
    "individ = Equation(max_tokens=10)\n",
    "Ob.set_operators(grid, individ, build_settings)"
   ]
  },
  {
   "cell_type": "markdown",
   "metadata": {},
   "source": [
    "# Choose type of algorithm\n",
    "Evaluate only one of the next two cells."
   ]
  },
  {
   "cell_type": "markdown",
   "metadata": {},
   "source": [
    "## Single-objective optimization\n",
    "optimizing only approximated quality of the model"
   ]
  },
  {
   "cell_type": "code",
   "execution_count": 6,
   "metadata": {},
   "outputs": [
    {
     "name": "stdout",
     "output_type": "stream",
     "text": [
      "0/2\n",
      "\n",
      "1/2\n",
      "\n"
     ]
    },
    {
     "data": {
      "text/plain": [
       "26.5435176"
      ]
     },
     "execution_count": 6,
     "metadata": {},
     "output_type": "execute_result"
    }
   ],
   "source": [
    "population = PopulationOfEquations(iterations=2)\n",
    "time = perf_counter()\n",
    "population.evolutionary()\n",
    "time = perf_counter() - time\n",
    "\n",
    "inds = population.structure\n",
    "idxsort = np.argsort(list(map(lambda x: x.fitness, inds)))\n",
    "inds = [inds[i] for i in idxsort]\n",
    "time"
   ]
  },
  {
   "cell_type": "markdown",
   "metadata": {},
   "source": [
    "## Multi-objective optimization\n",
    "This is an add-on to the previous algorithm, additionaly optimizing model complexity (number of tokens in model). Has additional multi_build_settings."
   ]
  },
  {
   "cell_type": "code",
   "execution_count": null,
   "metadata": {},
   "outputs": [],
   "source": [
    "multi_build_settings = {\n",
    "    'weights_num': 5,\n",
    "    \"pop_size\": 20,\n",
    "    \"epochs\": 5\n",
    "}\n",
    "\n",
    "multi_individ = Ee.MoeaddIndividTS(x=individ, obj_funs=[Objs.objective1, Objs.objective2])\n",
    "pop_constr = Ee.PopulationConstructor(pattern=multi_individ)\n",
    "\n",
    "optimizer = moeadd_optimizer(pop_constructor=pop_constr,\n",
    "                             optimized_functionals=[Objs.objective1, Objs.objective2],\n",
    "                             solution_params=None,\n",
    "                             delta=1 / 50.,\n",
    "                             neighbors_number=5,\n",
    "                             weights_num=multi_build_settings['weights_num'],\n",
    "                             pop_size=multi_build_settings['pop_size'])\n",
    "\n",
    "\n",
    "operator = Ee.EvolutionaryOperator()\n",
    "optimizer.set_evolutionary(operator=operator)\n",
    "\n",
    "optimizer.pass_best_objectives(0, 0)\n",
    "\n",
    "def simple_selector(sorted_neighbors, number_of_neighbors=4):\n",
    "    return sorted_neighbors[:number_of_neighbors]\n",
    "\n",
    "\n",
    "optimizer.optimize(neighborhood_selector=simple_selector, delta=0.95,\n",
    "                   neighborhood_selector_params=(4,), epochs=multi_build_settings['epochs'], PBI_penalty=0.75)\n",
    "\n",
    "inds = list(map(lambda x: x.vals, optimizer.pareto_levels.levels[0]))\n",
    "idxsort = np.argsort(list(map(lambda x: x.fitness, inds)))\n",
    "inds = [inds[i] for i in idxsort]"
   ]
  },
  {
   "cell_type": "markdown",
   "metadata": {},
   "source": [
    "## Visualize Pareto-front (for multi-objective optimization)"
   ]
  },
  {
   "cell_type": "code",
   "execution_count": null,
   "metadata": {},
   "outputs": [],
   "source": [
    "prec = []\n",
    "length = []\n",
    "\n",
    "for idx, ind in enumerate(inds):\n",
    "    prec.append(ind.fitness)\n",
    "    length.append(len(ind.structure))\n",
    "plt.plot(length[1:], prec[1:], '-o', color='brown')\n",
    "plt.title('Pareto frontier')\n",
    "plt.ylabel('Model quality')\n",
    "plt.xlabel('Model complexity')"
   ]
  },
  {
   "cell_type": "markdown",
   "metadata": {},
   "source": [
    "## Choose one model from proposed individuals\n",
    "They are sorted by their quality (the first objective)"
   ]
  },
  {
   "cell_type": "code",
   "execution_count": 7,
   "metadata": {},
   "outputs": [
    {
     "name": "stdout",
     "output_type": "stream",
     "text": [
      "1.0target+0.43Imp(0.11t + 0.08pi)+0.24Imp(39.83t + 0.06pi)+0.12(t**0.01) 0.19295370174826953\n"
     ]
    }
   ],
   "source": [
    "n = 0\n",
    "ind = deepcopy(inds[n])\n",
    "print(ind.formula(), ind.fitness)\n",
    "\n",
    "residuals = ind.value(grid)\n",
    "model = target + residuals\n",
    "\n",
    "model -= model.mean()\n",
    "residuals -= residuals.mean()"
   ]
  },
  {
   "cell_type": "markdown",
   "metadata": {},
   "source": [
    "# Generate synthetics based on the model\n",
    "Use parameters threshold_value and threshold_gaps (see sklearn.cluster.AgglomerativeClustering) to control stochasticity of synthetics (only for weakly seasonal time series), control amplitude noise of synthetic by adding custom residuals (np.array with realization of a random variable (any length, preferably more))"
   ]
  },
  {
   "cell_type": "code",
   "execution_count": 8,
   "metadata": {},
   "outputs": [],
   "source": [
    "tmp_ind = deepcopy(ind)\n",
    "\n",
    "synth_settings = {\n",
    "    \"threshold_value\": 2,\n",
    "    \"threshold_gaps\": 0.5,\n",
    "    \"residuals\": residuals # or None\n",
    "}\n",
    "\n",
    "\n",
    "split_imps= {\n",
    "            'make': False,\n",
    "            'min_ampl': 0.05,\n",
    "            'max_freq': float('inf')\n",
    "}\n",
    "\n",
    "clusterer_value = Chain.ClustererPulses(\n",
    "    distance_threshold=synth_settings[\"threshold_value\"],\n",
    "    params=dict(grid=grid)\n",
    ")\n",
    "clusterer_gaps = Chain.ClustererGaps(distance_threshold=synth_settings[\"threshold_gaps\"])\n",
    "coder = Chain.Coder2(\n",
    "    clusterer_value=clusterer_value,\n",
    "    clusterer_gaps=clusterer_gaps,\n",
    "    individ=tmp_ind,\n",
    "    params=dict(grid=grid)\n",
    ")\n",
    "mc = Chain.BayesianChain()\n",
    "\n",
    "syc = Synthesizer(\n",
    "    individ=tmp_ind, \n",
    "    grid=grid, \n",
    "    coder=coder, \n",
    "    markov_chain=mc,\n",
    "    residuals=synth_settings['residuals'],\n",
    "    split_imps=split_imps\n",
    ")\n",
    "# print(tmp_ind.formula())\n",
    "\n",
    "syc.fit()\n",
    "\n"
   ]
  },
  {
   "cell_type": "markdown",
   "metadata": {},
   "source": [
    "# Having fitted generative model - start generate"
   ]
  },
  {
   "cell_type": "code",
   "execution_count": 9,
   "metadata": {},
   "outputs": [],
   "source": [
    "target_spec = fp.fft(grid, target)\n",
    "model_spec = fp.fft(grid, model)\n",
    "\n",
    "dt = grid[1] - grid[0]\n",
    "new_grid = np.arange(grid.min(), 1.2 * grid.max(), dt)"
   ]
  },
  {
   "cell_type": "markdown",
   "metadata": {},
   "source": [
    "## Generate synthetic sample\n"
   ]
  },
  {
   "cell_type": "markdown",
   "metadata": {},
   "source": [
    "Every evaluation of this cell gives different results"
   ]
  },
  {
   "cell_type": "code",
   "execution_count": 10,
   "metadata": {},
   "outputs": [],
   "source": [
    "synthetic = syc.predict(new_grid)[:len(grid)]\n",
    "synthetic -= synthetic.mean()\n",
    "synthetic_spec = fp.fft(grid, synthetic)\n",
    "synthetic_quality = (np.var((np.abs(target_spec[1]) - np.abs(synthetic_spec[1])))\n",
    "                 / np.var(np.abs(target_spec[1])))/(np.var(target - synthetic) / np.var(target))"
   ]
  },
  {
   "cell_type": "markdown",
   "metadata": {},
   "source": [
    "## See what you obtain"
   ]
  },
  {
   "cell_type": "markdown",
   "metadata": {},
   "source": [
    "### In the time domain"
   ]
  },
  {
   "cell_type": "code",
   "execution_count": 11,
   "metadata": {},
   "outputs": [
    {
     "data": {
      "image/png": "[encoded data removed]",
      "text/plain": [
       "<Figure size 432x288 with 3 Axes>"
      ]
     },
     "metadata": {
      "needs_background": "light"
     },
     "output_type": "display_data"
    }
   ],
   "source": [
    "fig = plt.figure('orig and synthetic')\n",
    "axs = fig.subplots(3, 1, sharex=True, sharey=True)\n",
    "ts = [target, model]\n",
    "# ax = [None for _ in range(3)]\n",
    "labels = ['original', 'model', 'synthetic']\n",
    "colors = ['blue', 'orange', 'green']\n",
    "\n",
    "for i in range(3):\n",
    "    if i == 2:\n",
    "        axs[i].plot(grid, synthetic, color='red', linewidth=0.5, label='synthetic: quality {}'.format(round(synthetic_quality, 3)))\n",
    "    else:\n",
    "        axs[i].plot(grid, ts[i], label=labels[i], color=colors[i], linewidth=0.5)\n",
    "    axs[i].grid(True)\n",
    "    axs[i].set_xlabel('time')\n",
    "    axs[i].set_ylabel('amplitude')\n",
    "    axs[i].legend()\n",
    "\n",
    "fig.align_labels(axs)\n",
    "fig.tight_layout()"
   ]
  },
  {
   "cell_type": "markdown",
   "metadata": {},
   "source": [
    "### Spectra"
   ]
  },
  {
   "cell_type": "code",
   "execution_count": 12,
   "metadata": {},
   "outputs": [
    {
     "data": {
      "image/png": "[encoded data removed]",
      "text/plain": [
       "<Figure size 432x288 with 3 Axes>"
      ]
     },
     "metadata": {
      "needs_background": "light"
     },
     "output_type": "display_data"
    }
   ],
   "source": [
    "fig_sp = plt.figure('spectra')\n",
    "axs = fig_sp.subplots(3, 1, sharex=True, sharey=True)\n",
    "\n",
    "specs = [target_spec, model_spec]\n",
    "\n",
    "for i in range(3):\n",
    "    if i == 2:\n",
    "        axs[i].plot(synthetic_spec[0], np.abs(synthetic_spec[1]), label=labels[i], color='red', linewidth=0.5)\n",
    "    else:\n",
    "        axs[i].plot(specs[i][0], np.abs(specs[i][1]), label=labels[i], color=colors[i], linewidth=0.5)\n",
    "    axs[i].grid(True)\n",
    "    axs[i].set_xlabel('frequency')\n",
    "    axs[i].set_ylabel('amplitude')\n",
    "    axs[i].legend()\n",
    "fig_sp.align_labels(axs)\n",
    "fig_sp.tight_layout()\n",
    "\n",
    "plt.show()"
   ]
  },
  {
   "cell_type": "code",
   "execution_count": null,
   "metadata": {},
   "outputs": [],
   "source": []
  }
 ],
 "metadata": {
  "interpreter": {
   "hash": "f488367081603a58282be974fedc3e2a67e597d1060f7c7823eb2ae64672b0b2"
  },
  "kernelspec": {
   "display_name": "Python 3",
   "language": "python",
   "name": "python3"
  },
  "language_info": {
   "codemirror_mode": {
    "name": "ipython",
    "version": 3
   },
   "file_extension": ".py",
   "mimetype": "text/x-python",
   "name": "python",
   "nbconvert_exporter": "python",
   "pygments_lexer": "ipython3",
   "version": "3.8.3"
  }
 },
 "nbformat": 4,
 "nbformat_minor": 2
}
